{
 "cells": [
  {
   "cell_type": "markdown",
   "metadata": {},
   "source": [
    "### Our test results should include four test failures because we include incorrect values on purpose. \n",
    "\n",
    "self.assertEqual(self.n1.salary,8000), \n",
    "\n",
    "self.assertEqual(self.d1.salary,90), \n",
    "\n",
    "self.assertEqual(self.n1.phone_num,\"3132334567\"), \n",
    "\n",
    "self.assertEqual(self.d1.phone_num,\"3132334567\") "
   ]
  },
  {
   "cell_type": "code",
   "execution_count": 3,
   "metadata": {},
   "outputs": [
    {
     "name": "stderr",
     "output_type": "stream",
     "text": [
      "....FF.FF."
     ]
    },
    {
     "name": "stdout",
     "output_type": "stream",
     "text": [
      "Start testing in general patients.\n",
      "Finish tests in general patients.\n",
      "Start testing in covid-19 patients.\n",
      "Finish tests in covid-19 patients.\n",
      "Start testing nurse\n",
      "This nurse's bonus salary is 250\n",
      "With bonus salary, the nurse's total salary is 3450\n",
      "This nurse's bonus salary is 50\n",
      "With bonus salary, the nurse's total salary is 9050\n",
      "Finish test nurse\n",
      "Start testing doctor\n",
      "This doctor's bonus salary is 500\n",
      "With bonus salary, the doctor's total salary is 3700\n",
      "This doctor's bonus salary is 100\n",
      "With bonus salary, the doctor's total salary is 9100\n",
      "Finish test doctor\n",
      "<unittest.runner.TextTestResult run=10 errors=0 failures=4>\n"
     ]
    },
    {
     "name": "stderr",
     "output_type": "stream",
     "text": [
      "\n",
      "======================================================================\n",
      "FAIL: test_bonus (TestModule_nurse.TestNurse)\n",
      "----------------------------------------------------------------------\n",
      "Traceback (most recent call last):\n",
      "  File \"/Users/haotianjin/Documents/MDS/block3/data_533/lab/ubco-data533-lab3-test/TestModule_nurse.py\", line 36, in test_bonus\n",
      "    self.assertEqual(self.n1.salary,8000)\n",
      "AssertionError: 3450 != 8000\n",
      "\n",
      "======================================================================\n",
      "FAIL: test_change_in_phone_num (TestModule_nurse.TestNurse)\n",
      "----------------------------------------------------------------------\n",
      "Traceback (most recent call last):\n",
      "  File \"/Users/haotianjin/Documents/MDS/block3/data_533/lab/ubco-data533-lab3-test/TestModule_nurse.py\", line 17, in test_change_in_phone_num\n",
      "    self.assertEqual(self.n1.phone_num,\"3132334567\")\n",
      "AssertionError: '1234567890' != '3132334567'\n",
      "- 1234567890\n",
      "+ 3132334567\n",
      "\n",
      "\n",
      "======================================================================\n",
      "FAIL: test_bonus (TestModule_doctor.TestDoctor)\n",
      "----------------------------------------------------------------------\n",
      "Traceback (most recent call last):\n",
      "  File \"/Users/haotianjin/Documents/MDS/block3/data_533/lab/ubco-data533-lab3-test/TestModule_doctor.py\", line 37, in test_bonus\n",
      "    self.assertEqual(self.d1.salary,90)\n",
      "AssertionError: 3700 != 90\n",
      "\n",
      "======================================================================\n",
      "FAIL: test_change_in_phone_num (TestModule_doctor.TestDoctor)\n",
      "----------------------------------------------------------------------\n",
      "Traceback (most recent call last):\n",
      "  File \"/Users/haotianjin/Documents/MDS/block3/data_533/lab/ubco-data533-lab3-test/TestModule_doctor.py\", line 18, in test_change_in_phone_num\n",
      "    self.assertEqual(self.d1.phone_num,\"3132334567\")\n",
      "AssertionError: '1234567890' != '3132334567'\n",
      "- 1234567890\n",
      "+ 3132334567\n",
      "\n",
      "\n",
      "----------------------------------------------------------------------\n",
      "Ran 10 tests in 0.013s\n",
      "\n",
      "FAILED (failures=4)\n"
     ]
    }
   ],
   "source": [
    "import unittest\n",
    "from TestModule_patients import TestPatients\n",
    "from TestModule_covid_patient import TestCovidPatients\n",
    "from TestModule_nurse import TestNurse\n",
    "from TestModule_doctor import TestDoctor\n",
    "def my_suite():\n",
    "    suite = unittest.TestSuite()\n",
    "    result = unittest.TestResult() \n",
    "    suite.addTest(unittest.makeSuite(TestPatients)) \n",
    "    suite.addTest(unittest.makeSuite(TestCovidPatients))\n",
    "    suite.addTest(unittest.makeSuite(TestNurse))\n",
    "    suite.addTest(unittest.makeSuite(TestDoctor))\n",
    "    runner = unittest.TextTestRunner() \n",
    "    print(runner.run(suite))\n",
    "my_suite()"
   ]
  }
 ],
 "metadata": {
  "kernelspec": {
   "display_name": "Python 3",
   "language": "python",
   "name": "python3"
  },
  "language_info": {
   "codemirror_mode": {
    "name": "ipython",
    "version": 3
   },
   "file_extension": ".py",
   "mimetype": "text/x-python",
   "name": "python",
   "nbconvert_exporter": "python",
   "pygments_lexer": "ipython3",
   "version": "3.8.3"
  }
 },
 "nbformat": 4,
 "nbformat_minor": 4
}
